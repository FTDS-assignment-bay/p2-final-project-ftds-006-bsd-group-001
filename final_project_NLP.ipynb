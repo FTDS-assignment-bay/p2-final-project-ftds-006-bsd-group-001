{
 "cells": [
  {
   "cell_type": "markdown",
   "metadata": {},
   "source": [
    "# Introduction"
   ]
  },
  {
   "cell_type": "markdown",
   "metadata": {},
   "source": [
    "Members:\n",
    "\n",
    "- Ardiansyah Putra Mahadika\n",
    "\n",
    "- Divani Rafitya Amanda\n",
    "\n",
    "- Salman Hamka De Qais\n",
    "\n",
    "Batch : BSD - 006"
   ]
  },
  {
   "cell_type": "markdown",
   "metadata": {},
   "source": [
    "## Background"
   ]
  },
  {
   "cell_type": "markdown",
   "metadata": {},
   "source": [
    "In these days, people have many investment options like stocks, bonds, mutual funds, and cryptocurrencies. With so many choices, it can be confusing to decide where to invest. This confusion can lead to poor investment decisions that don't meet long-term financial goals. That's why a personal finance recommendation system is important. It can help by giving personalized advice based on a person's financial data, risk tolerance, and goals, making it easier to make smart and informed investment choices."
   ]
  },
  {
   "cell_type": "markdown",
   "metadata": {},
   "source": [
    "## Objective"
   ]
  },
  {
   "cell_type": "markdown",
   "metadata": {},
   "source": [
    "__1. Understanding the Investment Behavior of Respondents (Young Millennials) Using the 5W1H Approach__\n",
    "\n",
    "\n",
    "- Who: Identify who the respondents are (young millennials).\n",
    "- What: Understand what types of investments they prefer.\n",
    "- When: Determine when they are most likely to invest.\n",
    "- Where: Identify the geographical locations or platforms they prefer for investments.\n",
    "- Why: Understand the reasons behind their investment choices.\n",
    "- How: Examine how they make investment decisions and the factors influencing these decisions.\n",
    "\n",
    "\n",
    "__2. Exploratory Data Analysis (EDA)__\n",
    "\n",
    "*Before Clustering:*\n",
    "\n",
    "- Demographic Analysis: Analyze the demographic distribution of the respondents (age, gender, income, etc.)\n",
    "\n",
    "- Investment Preferences: Examine the types of investments preferred by the respondents\n",
    "\n",
    "- Risk Tolerance: Analyze the risk tolerance levels of the respondents\n",
    "\n",
    "*After Clustering:*\n",
    "\n",
    "- Cluster Characteristics: Analyze the characteristics of each cluster (demographics, investment preferences, risk tolerance)\n",
    "\n",
    "- Risk Profiles: Examine the risk profiles of each cluster\n",
    "\n",
    "- Investment Behavior: Analyze the investment behaviors of each cluster\n",
    "\n",
    "\n",
    "__3. Identifying Respondent Groupings Based on Characteristics and Risk Profiles__\n",
    "\n",
    "- Principal Component Analysis (PCA): Use PCA to reduce dimensionality while retaining important information.\n",
    "\n",
    "- Elbow Method: Use the Elbow Method to determine the optimal number of clusters.\n",
    "\n",
    "- Silhouette Score and Silhouette Plot: Use the Silhouette Score and Silhouette Plot to validate the optimal number of clusters.\n",
    "\n",
    "\n",
    "__4. Creating a Machine Learning Model for Investment Product Recommendations__\n",
    "\n",
    "- Artificial Neural Network (ANN): Develop an ANN model to provide investment product recommendations according to the risk profile of each cluster/group.\n",
    "\n",
    "- Natural Language Processing (NLP): Use NLP to analyze text data and generate the best investment recommendations based on the analyzed data."
   ]
  },
  {
   "cell_type": "markdown",
   "metadata": {},
   "source": [
    "# Import Required Libraries"
   ]
  },
  {
   "cell_type": "code",
   "execution_count": 6,
   "metadata": {},
   "outputs": [
    {
     "name": "stderr",
     "output_type": "stream",
     "text": [
      "[nltk_data] Downloading package stopwords to\n",
      "[nltk_data]     /Users/ardiansyahputra/nltk_data...\n",
      "[nltk_data]   Package stopwords is already up-to-date!\n",
      "[nltk_data] Downloading package punkt to\n",
      "[nltk_data]     /Users/ardiansyahputra/nltk_data...\n",
      "[nltk_data]   Package punkt is already up-to-date!\n"
     ]
    },
    {
     "data": {
      "text/plain": [
       "True"
      ]
     },
     "execution_count": 6,
     "metadata": {},
     "output_type": "execute_result"
    }
   ],
   "source": [
    "# Data loading libraries\n",
    "\n",
    "# Visualization Libraries\n",
    "\n",
    "# Feature Engineering and Text Preprocessing Libraries\n",
    "import nltk\n",
    "from nltk.stem import PorterStemmer\n",
    "from nltk.tokenize import word_tokenize\n",
    "from nltk.corpus import stopwords\n",
    "from nltk.stem import WordNetLemmatizer\n",
    "from wordcloud import STOPWORDS\n",
    "\n",
    "# Modeling Libraries\n",
    "from sklearn.model_selection import train_test_split\n",
    "from sklearn.feature_extraction.text import CountVectorizer\n",
    "from sklearn.metrics import classification_report\n",
    "import tensorflow as tf\n",
    "import tensorflow_hub as tf_hub\n",
    "from tensorflow.keras.utils import to_categorical\n",
    "from tensorflow.keras.layers import TextVectorization, Embedding, Dense, LSTM, Bidirectional, Dropout, Reshape\n",
    "from tensorflow.keras.models import Sequential, load_model\n",
    "from tensorflow.keras.callbacks import EarlyStopping\n",
    "\n",
    "# Downloading NLTK data\n",
    "nltk.download('stopwords')\n",
    "nltk.download('punkt')"
   ]
  },
  {
   "cell_type": "markdown",
   "metadata": {},
   "source": [
    "# Data Loading"
   ]
  },
  {
   "cell_type": "markdown",
   "metadata": {},
   "source": [
    "## Data Explanation"
   ]
  },
  {
   "cell_type": "markdown",
   "metadata": {},
   "source": [
    "# Exploratory Data Analysis"
   ]
  },
  {
   "cell_type": "markdown",
   "metadata": {},
   "source": [
    "# Feature Engineering"
   ]
  },
  {
   "cell_type": "markdown",
   "metadata": {},
   "source": [
    "# Model Development"
   ]
  },
  {
   "cell_type": "markdown",
   "metadata": {},
   "source": [
    "# Model Saving"
   ]
  },
  {
   "cell_type": "markdown",
   "metadata": {},
   "source": [
    "# Conclusion"
   ]
  }
 ],
 "metadata": {
  "kernelspec": {
   "display_name": "base",
   "language": "python",
   "name": "python3"
  },
  "language_info": {
   "codemirror_mode": {
    "name": "ipython",
    "version": 3
   },
   "file_extension": ".py",
   "mimetype": "text/x-python",
   "name": "python",
   "nbconvert_exporter": "python",
   "pygments_lexer": "ipython3",
   "version": "3.11.5"
  }
 },
 "nbformat": 4,
 "nbformat_minor": 2
}
