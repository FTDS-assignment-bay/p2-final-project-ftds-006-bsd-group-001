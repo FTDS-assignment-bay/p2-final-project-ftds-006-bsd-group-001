{
 "cells": [
  {
   "cell_type": "markdown",
   "metadata": {},
   "source": [
    "# Import Required Libraries"
   ]
  },
  {
   "cell_type": "code",
   "execution_count": 1,
   "metadata": {},
   "outputs": [
    {
     "name": "stderr",
     "output_type": "stream",
     "text": [
      "2024-07-31 02:09:55.965429: I tensorflow/core/platform/cpu_feature_guard.cc:210] This TensorFlow binary is optimized to use available CPU instructions in performance-critical operations.\n",
      "To enable the following instructions: AVX2 FMA, in other operations, rebuild TensorFlow with the appropriate compiler flags.\n"
     ]
    }
   ],
   "source": [
    "import pandas as pd\n",
    "import numpy as np\n",
    "import matplotlib.pyplot as plt\n",
    "import seaborn as sns\n",
    "import pickle\n",
    "import json\n",
    "from sklearn.decomposition import PCA\n",
    "import warnings\n",
    "from tensorflow.keras.models import load_model\n",
    "\n",
    "warnings.filterwarnings(\"ignore\")"
   ]
  },
  {
   "cell_type": "markdown",
   "metadata": {},
   "source": [
    "# Data Loading"
   ]
  },
  {
   "cell_type": "code",
   "execution_count": 2,
   "metadata": {},
   "outputs": [],
   "source": [
    "# Load Model\n",
    "\n",
    "# Save Pipeline\n",
    "with open('features.txt', 'r') as file_1:\n",
    "    final_features = json.load(file_1)\n",
    "\n",
    "with open('class_names.txt', 'r') as file_5:\n",
    "    class_names = json.load(file_5)\n",
    "\n",
    "with open('pca.pkl', 'rb') as file_2:\n",
    "    pca = pickle.load(file_2)\n",
    "\n",
    "with open('pipeline.pkl', 'rb') as file_3:\n",
    "    pipeline = pickle.load(file_3)\n",
    "\n",
    "with open('cluster.pkl', 'rb') as file_4:\n",
    "    kmeans = pickle.load(file_4)\n",
    "\n",
    "model = load_model('model_seq.keras')"
   ]
  },
  {
   "cell_type": "code",
   "execution_count": 3,
   "metadata": {},
   "outputs": [],
   "source": [
    "data_inf = {\n",
    "    \"gender\": [0],\n",
    "    \"age\": [0],\n",
    "    \"allowance\": [0],\n",
    "    \"q1\": [2],\n",
    "    \"q2\": [4],\n",
    "    \"q3\": [3],\n",
    "    \"q4\": [2],\n",
    "    \"q5\": [3],\n",
    "    \"q6\": [5],\n",
    "    \"q7\": [4],\n",
    "    \"q8\": [4],\n",
    "    \"q9\": [5],\n",
    "    \"q10\": [5],\n",
    "    \"q11\": [2],\n",
    "    \"q12\": [5],\n",
    "    \"q13\": [1],\n",
    "    \"q14\": [3],\n",
    "    \"q15\": [2],\n",
    "    \"q16\": [3],\n",
    "    \"q17\": [2],\n",
    "    \"q18\": [1],\n",
    "    \"q19\": [3],\n",
    "    \"q20\": [4],\n",
    "    \"q21\": [2],\n",
    "    \"q22\": [1],\n",
    "    \"q23\": [2],\n",
    "    \"q24\": [4],\n",
    "    \"q25\": [2],\n",
    "    \"q26\": [3],\n",
    "    \"q27\": [2],\n",
    "    \"q28\": [4],\n",
    "    \"q29\": [4],\n",
    "    \"q30\": [5]\n",
    "}"
   ]
  },
  {
   "cell_type": "code",
   "execution_count": 4,
   "metadata": {},
   "outputs": [
    {
     "data": {
      "text/plain": [
       "['gender',\n",
       " 'age',\n",
       " 'allowance',\n",
       " 'q1',\n",
       " 'q2',\n",
       " 'q3',\n",
       " 'q5',\n",
       " 'q6',\n",
       " 'q7',\n",
       " 'q8',\n",
       " 'q10',\n",
       " 'q12',\n",
       " 'q13',\n",
       " 'q14',\n",
       " 'q15',\n",
       " 'q16',\n",
       " 'q17',\n",
       " 'q18',\n",
       " 'q19',\n",
       " 'q20',\n",
       " 'q21',\n",
       " 'q22',\n",
       " 'q23',\n",
       " 'q25',\n",
       " 'q26',\n",
       " 'q27',\n",
       " 'q29',\n",
       " 'q30']"
      ]
     },
     "execution_count": 4,
     "metadata": {},
     "output_type": "execute_result"
    }
   ],
   "source": [
    "final_features"
   ]
  },
  {
   "cell_type": "code",
   "execution_count": 5,
   "metadata": {},
   "outputs": [
    {
     "data": {
      "text/html": [
       "<div>\n",
       "<style scoped>\n",
       "    .dataframe tbody tr th:only-of-type {\n",
       "        vertical-align: middle;\n",
       "    }\n",
       "\n",
       "    .dataframe tbody tr th {\n",
       "        vertical-align: top;\n",
       "    }\n",
       "\n",
       "    .dataframe thead th {\n",
       "        text-align: right;\n",
       "    }\n",
       "</style>\n",
       "<table border=\"1\" class=\"dataframe\">\n",
       "  <thead>\n",
       "    <tr style=\"text-align: right;\">\n",
       "      <th></th>\n",
       "      <th>gender</th>\n",
       "      <th>age</th>\n",
       "      <th>allowance</th>\n",
       "      <th>q1</th>\n",
       "      <th>q2</th>\n",
       "      <th>q3</th>\n",
       "      <th>q4</th>\n",
       "      <th>q5</th>\n",
       "      <th>q6</th>\n",
       "      <th>q7</th>\n",
       "      <th>...</th>\n",
       "      <th>q21</th>\n",
       "      <th>q22</th>\n",
       "      <th>q23</th>\n",
       "      <th>q24</th>\n",
       "      <th>q25</th>\n",
       "      <th>q26</th>\n",
       "      <th>q27</th>\n",
       "      <th>q28</th>\n",
       "      <th>q29</th>\n",
       "      <th>q30</th>\n",
       "    </tr>\n",
       "  </thead>\n",
       "  <tbody>\n",
       "    <tr>\n",
       "      <th>0</th>\n",
       "      <td>0</td>\n",
       "      <td>0</td>\n",
       "      <td>0</td>\n",
       "      <td>2</td>\n",
       "      <td>4</td>\n",
       "      <td>3</td>\n",
       "      <td>2</td>\n",
       "      <td>3</td>\n",
       "      <td>5</td>\n",
       "      <td>4</td>\n",
       "      <td>...</td>\n",
       "      <td>2</td>\n",
       "      <td>1</td>\n",
       "      <td>2</td>\n",
       "      <td>4</td>\n",
       "      <td>2</td>\n",
       "      <td>3</td>\n",
       "      <td>2</td>\n",
       "      <td>4</td>\n",
       "      <td>4</td>\n",
       "      <td>5</td>\n",
       "    </tr>\n",
       "  </tbody>\n",
       "</table>\n",
       "<p>1 rows × 33 columns</p>\n",
       "</div>"
      ],
      "text/plain": [
       "   gender  age  allowance  q1  q2  q3  q4  q5  q6  q7  ...  q21  q22  q23  \\\n",
       "0       0    0          0   2   4   3   2   3   5   4  ...    2    1    2   \n",
       "\n",
       "   q24  q25  q26  q27  q28  q29  q30  \n",
       "0    4    2    3    2    4    4    5  \n",
       "\n",
       "[1 rows x 33 columns]"
      ]
     },
     "execution_count": 5,
     "metadata": {},
     "output_type": "execute_result"
    }
   ],
   "source": [
    "data_inf_df = pd.DataFrame(data_inf)\n",
    "data_inf_df"
   ]
  },
  {
   "cell_type": "markdown",
   "metadata": {},
   "source": [
    "# Prediction"
   ]
  },
  {
   "cell_type": "markdown",
   "metadata": {},
   "source": [
    "## Adjusting features"
   ]
  },
  {
   "cell_type": "code",
   "execution_count": 6,
   "metadata": {},
   "outputs": [
    {
     "data": {
      "text/html": [
       "<div>\n",
       "<style scoped>\n",
       "    .dataframe tbody tr th:only-of-type {\n",
       "        vertical-align: middle;\n",
       "    }\n",
       "\n",
       "    .dataframe tbody tr th {\n",
       "        vertical-align: top;\n",
       "    }\n",
       "\n",
       "    .dataframe thead th {\n",
       "        text-align: right;\n",
       "    }\n",
       "</style>\n",
       "<table border=\"1\" class=\"dataframe\">\n",
       "  <thead>\n",
       "    <tr style=\"text-align: right;\">\n",
       "      <th></th>\n",
       "      <th>gender</th>\n",
       "      <th>age</th>\n",
       "      <th>allowance</th>\n",
       "      <th>q1</th>\n",
       "      <th>q2</th>\n",
       "      <th>q3</th>\n",
       "      <th>q5</th>\n",
       "      <th>q6</th>\n",
       "      <th>q7</th>\n",
       "      <th>q8</th>\n",
       "      <th>...</th>\n",
       "      <th>q19</th>\n",
       "      <th>q20</th>\n",
       "      <th>q21</th>\n",
       "      <th>q22</th>\n",
       "      <th>q23</th>\n",
       "      <th>q25</th>\n",
       "      <th>q26</th>\n",
       "      <th>q27</th>\n",
       "      <th>q29</th>\n",
       "      <th>q30</th>\n",
       "    </tr>\n",
       "  </thead>\n",
       "  <tbody>\n",
       "    <tr>\n",
       "      <th>0</th>\n",
       "      <td>0</td>\n",
       "      <td>0</td>\n",
       "      <td>0</td>\n",
       "      <td>2</td>\n",
       "      <td>4</td>\n",
       "      <td>3</td>\n",
       "      <td>3</td>\n",
       "      <td>5</td>\n",
       "      <td>4</td>\n",
       "      <td>4</td>\n",
       "      <td>...</td>\n",
       "      <td>3</td>\n",
       "      <td>4</td>\n",
       "      <td>2</td>\n",
       "      <td>1</td>\n",
       "      <td>2</td>\n",
       "      <td>2</td>\n",
       "      <td>3</td>\n",
       "      <td>2</td>\n",
       "      <td>4</td>\n",
       "      <td>5</td>\n",
       "    </tr>\n",
       "  </tbody>\n",
       "</table>\n",
       "<p>1 rows × 28 columns</p>\n",
       "</div>"
      ],
      "text/plain": [
       "   gender  age  allowance  q1  q2  q3  q5  q6  q7  q8  ...  q19  q20  q21  \\\n",
       "0       0    0          0   2   4   3   3   5   4   4  ...    3    4    2   \n",
       "\n",
       "   q22  q23  q25  q26  q27  q29  q30  \n",
       "0    1    2    2    3    2    4    5  \n",
       "\n",
       "[1 rows x 28 columns]"
      ]
     },
     "execution_count": 6,
     "metadata": {},
     "output_type": "execute_result"
    }
   ],
   "source": [
    "data_inf_df_adj = data_inf_df[final_features]\n",
    "data_inf_df_adj"
   ]
  },
  {
   "cell_type": "markdown",
   "metadata": {},
   "source": [
    "## PCA"
   ]
  },
  {
   "cell_type": "code",
   "execution_count": 7,
   "metadata": {},
   "outputs": [
    {
     "data": {
      "text/plain": [
       "array([[ 0.10148409,  0.63907935,  0.20503603, -1.67642678, -2.20512208,\n",
       "        -0.68997004, -2.01903689, -1.22839395,  1.12830459,  0.75423306,\n",
       "         1.24456685, -0.2215783 , -1.9207356 , -0.0613408 , -0.45538505,\n",
       "         1.41268387, -0.1834046 , -1.72282255]])"
      ]
     },
     "execution_count": 7,
     "metadata": {},
     "output_type": "execute_result"
    }
   ],
   "source": [
    "df_pca = pca.transform(data_inf_df_adj)\n",
    "df_pca"
   ]
  },
  {
   "cell_type": "code",
   "execution_count": 8,
   "metadata": {},
   "outputs": [
    {
     "data": {
      "text/plain": [
       "array([2], dtype=int32)"
      ]
     },
     "execution_count": 8,
     "metadata": {},
     "output_type": "execute_result"
    }
   ],
   "source": [
    "pred = kmeans.predict(df_pca)\n",
    "pred"
   ]
  },
  {
   "cell_type": "markdown",
   "metadata": {},
   "source": [
    "## Create Description"
   ]
  },
  {
   "cell_type": "code",
   "execution_count": 9,
   "metadata": {},
   "outputs": [],
   "source": [
    "# Define the mapping for the responses\n",
    "response_mapping = {\n",
    "    1: \"does not\",\n",
    "    2: \"\",\n",
    "    3: \"neutral about\",\n",
    "    4: \"strongly\",\n",
    "    5: \"very strongly\"\n",
    "}\n",
    "\n",
    "# Define the questions and corresponding summaries\n",
    "questions_summaries = {\n",
    "    'q22': \"{} regularly puts money aside for the future.\",\n",
    "    'q23': \"{} compares prices before making purchases for investment.\",\n",
    "    'q24': \"{} considers stock prices before selling.\",\n",
    "    'q25': \"{} understands fundamental analysis.\",\n",
    "    'q26': \"{} always has money available in case of a failed investment.\",\n",
    "    'q27': \"{} plans to manage expenses in order to invest.\",\n",
    "    'q28': \"{} saves money in order to invest.\",\n",
    "    'q29': \"{} invests to achieve certain goals.\",\n",
    "    'q30': \"{} has investment accounts in money and capital markets.\"\n",
    "}\n",
    "\n",
    "# Function to generate descriptive summary for investment behavior\n",
    "def generate_investment_behavior_summary(row):\n",
    "    behavior_summary = []\n",
    "    for question, summary in questions_summaries.items():\n",
    "        response = row[question]\n",
    "        behavior_summary.append(summary.format(response_mapping[response]))\n",
    "    return \" \".join(behavior_summary)\n"
   ]
  },
  {
   "cell_type": "code",
   "execution_count": 10,
   "metadata": {},
   "outputs": [
    {
     "data": {
      "text/html": [
       "<div>\n",
       "<style scoped>\n",
       "    .dataframe tbody tr th:only-of-type {\n",
       "        vertical-align: middle;\n",
       "    }\n",
       "\n",
       "    .dataframe tbody tr th {\n",
       "        vertical-align: top;\n",
       "    }\n",
       "\n",
       "    .dataframe thead th {\n",
       "        text-align: right;\n",
       "    }\n",
       "</style>\n",
       "<table border=\"1\" class=\"dataframe\">\n",
       "  <thead>\n",
       "    <tr style=\"text-align: right;\">\n",
       "      <th></th>\n",
       "      <th>gender</th>\n",
       "      <th>age</th>\n",
       "      <th>allowance</th>\n",
       "      <th>q1</th>\n",
       "      <th>q2</th>\n",
       "      <th>q3</th>\n",
       "      <th>q4</th>\n",
       "      <th>q5</th>\n",
       "      <th>q6</th>\n",
       "      <th>q7</th>\n",
       "      <th>...</th>\n",
       "      <th>q21</th>\n",
       "      <th>q22</th>\n",
       "      <th>q23</th>\n",
       "      <th>q24</th>\n",
       "      <th>q25</th>\n",
       "      <th>q26</th>\n",
       "      <th>q27</th>\n",
       "      <th>q28</th>\n",
       "      <th>q29</th>\n",
       "      <th>q30</th>\n",
       "    </tr>\n",
       "  </thead>\n",
       "  <tbody>\n",
       "    <tr>\n",
       "      <th>0</th>\n",
       "      <td>0</td>\n",
       "      <td>0</td>\n",
       "      <td>0</td>\n",
       "      <td>2</td>\n",
       "      <td>4</td>\n",
       "      <td>3</td>\n",
       "      <td>2</td>\n",
       "      <td>3</td>\n",
       "      <td>5</td>\n",
       "      <td>4</td>\n",
       "      <td>...</td>\n",
       "      <td>2</td>\n",
       "      <td>1</td>\n",
       "      <td>2</td>\n",
       "      <td>4</td>\n",
       "      <td>2</td>\n",
       "      <td>3</td>\n",
       "      <td>2</td>\n",
       "      <td>4</td>\n",
       "      <td>4</td>\n",
       "      <td>5</td>\n",
       "    </tr>\n",
       "  </tbody>\n",
       "</table>\n",
       "<p>1 rows × 33 columns</p>\n",
       "</div>"
      ],
      "text/plain": [
       "   gender  age  allowance  q1  q2  q3  q4  q5  q6  q7  ...  q21  q22  q23  \\\n",
       "0       0    0          0   2   4   3   2   3   5   4  ...    2    1    2   \n",
       "\n",
       "   q24  q25  q26  q27  q28  q29  q30  \n",
       "0    4    2    3    2    4    4    5  \n",
       "\n",
       "[1 rows x 33 columns]"
      ]
     },
     "execution_count": 10,
     "metadata": {},
     "output_type": "execute_result"
    }
   ],
   "source": [
    "data_inf_df"
   ]
  },
  {
   "cell_type": "code",
   "execution_count": 11,
   "metadata": {},
   "outputs": [
    {
     "data": {
      "text/html": [
       "<div>\n",
       "<style scoped>\n",
       "    .dataframe tbody tr th:only-of-type {\n",
       "        vertical-align: middle;\n",
       "    }\n",
       "\n",
       "    .dataframe tbody tr th {\n",
       "        vertical-align: top;\n",
       "    }\n",
       "\n",
       "    .dataframe thead th {\n",
       "        text-align: right;\n",
       "    }\n",
       "</style>\n",
       "<table border=\"1\" class=\"dataframe\">\n",
       "  <thead>\n",
       "    <tr style=\"text-align: right;\">\n",
       "      <th></th>\n",
       "      <th>gender</th>\n",
       "      <th>age</th>\n",
       "      <th>allowance</th>\n",
       "      <th>q1</th>\n",
       "      <th>q2</th>\n",
       "      <th>q3</th>\n",
       "      <th>q4</th>\n",
       "      <th>q5</th>\n",
       "      <th>q6</th>\n",
       "      <th>q7</th>\n",
       "      <th>...</th>\n",
       "      <th>q22</th>\n",
       "      <th>q23</th>\n",
       "      <th>q24</th>\n",
       "      <th>q25</th>\n",
       "      <th>q26</th>\n",
       "      <th>q27</th>\n",
       "      <th>q28</th>\n",
       "      <th>q29</th>\n",
       "      <th>q30</th>\n",
       "      <th>cluster</th>\n",
       "    </tr>\n",
       "  </thead>\n",
       "  <tbody>\n",
       "    <tr>\n",
       "      <th>0</th>\n",
       "      <td>0</td>\n",
       "      <td>0</td>\n",
       "      <td>0</td>\n",
       "      <td>2</td>\n",
       "      <td>4</td>\n",
       "      <td>3</td>\n",
       "      <td>2</td>\n",
       "      <td>3</td>\n",
       "      <td>5</td>\n",
       "      <td>4</td>\n",
       "      <td>...</td>\n",
       "      <td>1</td>\n",
       "      <td>2</td>\n",
       "      <td>4</td>\n",
       "      <td>2</td>\n",
       "      <td>3</td>\n",
       "      <td>2</td>\n",
       "      <td>4</td>\n",
       "      <td>4</td>\n",
       "      <td>5</td>\n",
       "      <td>2</td>\n",
       "    </tr>\n",
       "  </tbody>\n",
       "</table>\n",
       "<p>1 rows × 34 columns</p>\n",
       "</div>"
      ],
      "text/plain": [
       "   gender  age  allowance  q1  q2  q3  q4  q5  q6  q7  ...  q22  q23  q24  \\\n",
       "0       0    0          0   2   4   3   2   3   5   4  ...    1    2    4   \n",
       "\n",
       "   q25  q26  q27  q28  q29  q30  cluster  \n",
       "0    2    3    2    4    4    5        2  \n",
       "\n",
       "[1 rows x 34 columns]"
      ]
     },
     "execution_count": 11,
     "metadata": {},
     "output_type": "execute_result"
    }
   ],
   "source": [
    "data_inf_df['cluster'] = pred\n",
    "data_inf_df"
   ]
  },
  {
   "cell_type": "code",
   "execution_count": 12,
   "metadata": {},
   "outputs": [],
   "source": [
    "# rename value on column 'cluster'\n",
    "data_inf_df['cluster'] = data_inf_df['cluster'].replace({0:'Agressive',1:'Conservative',2:'Moderate'})"
   ]
  },
  {
   "cell_type": "code",
   "execution_count": 13,
   "metadata": {},
   "outputs": [
    {
     "data": {
      "text/html": [
       "<div>\n",
       "<style scoped>\n",
       "    .dataframe tbody tr th:only-of-type {\n",
       "        vertical-align: middle;\n",
       "    }\n",
       "\n",
       "    .dataframe tbody tr th {\n",
       "        vertical-align: top;\n",
       "    }\n",
       "\n",
       "    .dataframe thead th {\n",
       "        text-align: right;\n",
       "    }\n",
       "</style>\n",
       "<table border=\"1\" class=\"dataframe\">\n",
       "  <thead>\n",
       "    <tr style=\"text-align: right;\">\n",
       "      <th></th>\n",
       "      <th>gender</th>\n",
       "      <th>age</th>\n",
       "      <th>allowance</th>\n",
       "      <th>q1</th>\n",
       "      <th>q2</th>\n",
       "      <th>q3</th>\n",
       "      <th>q4</th>\n",
       "      <th>q5</th>\n",
       "      <th>q6</th>\n",
       "      <th>q7</th>\n",
       "      <th>...</th>\n",
       "      <th>q22</th>\n",
       "      <th>q23</th>\n",
       "      <th>q24</th>\n",
       "      <th>q25</th>\n",
       "      <th>q26</th>\n",
       "      <th>q27</th>\n",
       "      <th>q28</th>\n",
       "      <th>q29</th>\n",
       "      <th>q30</th>\n",
       "      <th>cluster</th>\n",
       "    </tr>\n",
       "  </thead>\n",
       "  <tbody>\n",
       "    <tr>\n",
       "      <th>0</th>\n",
       "      <td>0</td>\n",
       "      <td>0</td>\n",
       "      <td>0</td>\n",
       "      <td>2</td>\n",
       "      <td>4</td>\n",
       "      <td>3</td>\n",
       "      <td>2</td>\n",
       "      <td>3</td>\n",
       "      <td>5</td>\n",
       "      <td>4</td>\n",
       "      <td>...</td>\n",
       "      <td>1</td>\n",
       "      <td>2</td>\n",
       "      <td>4</td>\n",
       "      <td>2</td>\n",
       "      <td>3</td>\n",
       "      <td>2</td>\n",
       "      <td>4</td>\n",
       "      <td>4</td>\n",
       "      <td>5</td>\n",
       "      <td>Moderate</td>\n",
       "    </tr>\n",
       "  </tbody>\n",
       "</table>\n",
       "<p>1 rows × 34 columns</p>\n",
       "</div>"
      ],
      "text/plain": [
       "   gender  age  allowance  q1  q2  q3  q4  q5  q6  q7  ...  q22  q23  q24  \\\n",
       "0       0    0          0   2   4   3   2   3   5   4  ...    1    2    4   \n",
       "\n",
       "   q25  q26  q27  q28  q29  q30   cluster  \n",
       "0    2    3    2    4    4    5  Moderate  \n",
       "\n",
       "[1 rows x 34 columns]"
      ]
     },
     "execution_count": 13,
     "metadata": {},
     "output_type": "execute_result"
    }
   ],
   "source": [
    "data_inf_df"
   ]
  },
  {
   "cell_type": "code",
   "execution_count": 14,
   "metadata": {},
   "outputs": [
    {
     "data": {
      "text/html": [
       "<div>\n",
       "<style scoped>\n",
       "    .dataframe tbody tr th:only-of-type {\n",
       "        vertical-align: middle;\n",
       "    }\n",
       "\n",
       "    .dataframe tbody tr th {\n",
       "        vertical-align: top;\n",
       "    }\n",
       "\n",
       "    .dataframe thead th {\n",
       "        text-align: right;\n",
       "    }\n",
       "</style>\n",
       "<table border=\"1\" class=\"dataframe\">\n",
       "  <thead>\n",
       "    <tr style=\"text-align: right;\">\n",
       "      <th></th>\n",
       "      <th>gender</th>\n",
       "      <th>age</th>\n",
       "      <th>allowance</th>\n",
       "      <th>q1</th>\n",
       "      <th>q2</th>\n",
       "      <th>q3</th>\n",
       "      <th>q4</th>\n",
       "      <th>q5</th>\n",
       "      <th>q6</th>\n",
       "      <th>q7</th>\n",
       "      <th>...</th>\n",
       "      <th>q23</th>\n",
       "      <th>q24</th>\n",
       "      <th>q25</th>\n",
       "      <th>q26</th>\n",
       "      <th>q27</th>\n",
       "      <th>q28</th>\n",
       "      <th>q29</th>\n",
       "      <th>q30</th>\n",
       "      <th>cluster</th>\n",
       "      <th>description</th>\n",
       "    </tr>\n",
       "  </thead>\n",
       "  <tbody>\n",
       "    <tr>\n",
       "      <th>0</th>\n",
       "      <td>0</td>\n",
       "      <td>0</td>\n",
       "      <td>0</td>\n",
       "      <td>2</td>\n",
       "      <td>4</td>\n",
       "      <td>3</td>\n",
       "      <td>2</td>\n",
       "      <td>3</td>\n",
       "      <td>5</td>\n",
       "      <td>4</td>\n",
       "      <td>...</td>\n",
       "      <td>2</td>\n",
       "      <td>4</td>\n",
       "      <td>2</td>\n",
       "      <td>3</td>\n",
       "      <td>2</td>\n",
       "      <td>4</td>\n",
       "      <td>4</td>\n",
       "      <td>5</td>\n",
       "      <td>Moderate</td>\n",
       "      <td>does not regularly puts money aside for the fu...</td>\n",
       "    </tr>\n",
       "  </tbody>\n",
       "</table>\n",
       "<p>1 rows × 35 columns</p>\n",
       "</div>"
      ],
      "text/plain": [
       "   gender  age  allowance  q1  q2  q3  q4  q5  q6  q7  ...  q23  q24  q25  \\\n",
       "0       0    0          0   2   4   3   2   3   5   4  ...    2    4    2   \n",
       "\n",
       "   q26  q27  q28  q29  q30   cluster  \\\n",
       "0    3    2    4    4    5  Moderate   \n",
       "\n",
       "                                         description  \n",
       "0  does not regularly puts money aside for the fu...  \n",
       "\n",
       "[1 rows x 35 columns]"
      ]
     },
     "execution_count": 14,
     "metadata": {},
     "output_type": "execute_result"
    }
   ],
   "source": [
    "# Apply the function to each row to create the new column\n",
    "data_inf_df['description'] = data_inf_df.apply(generate_investment_behavior_summary, axis=1)\n",
    "data_inf_df"
   ]
  },
  {
   "cell_type": "code",
   "execution_count": 15,
   "metadata": {},
   "outputs": [
    {
     "data": {
      "text/plain": [
       "<1x201 sparse matrix of type '<class 'numpy.float64'>'\n",
       "\twith 31 stored elements in Compressed Sparse Row format>"
      ]
     },
     "execution_count": 15,
     "metadata": {},
     "output_type": "execute_result"
    }
   ],
   "source": [
    "data_inf_df = pipeline.transform(data_inf_df)\n",
    "data_inf_df"
   ]
  },
  {
   "cell_type": "markdown",
   "metadata": {},
   "source": [
    "## Predict Recommendation"
   ]
  },
  {
   "cell_type": "code",
   "execution_count": 16,
   "metadata": {},
   "outputs": [
    {
     "name": "stdout",
     "output_type": "stream",
     "text": [
      "\u001b[1m1/1\u001b[0m \u001b[32m━━━━━━━━━━━━━━━━━━━━\u001b[0m\u001b[37m\u001b[0m \u001b[1m0s\u001b[0m 367ms/step\n"
     ]
    },
    {
     "data": {
      "text/plain": [
       "array([[0.0581225 , 0.39391622, 0.54796124]], dtype=float32)"
      ]
     },
     "execution_count": 16,
     "metadata": {},
     "output_type": "execute_result"
    }
   ],
   "source": [
    "#predict \n",
    "y_pred = model.predict(data_inf_df)\n",
    "y_pred"
   ]
  },
  {
   "cell_type": "code",
   "execution_count": 17,
   "metadata": {},
   "outputs": [
    {
     "data": {
      "text/html": [
       "<div>\n",
       "<style scoped>\n",
       "    .dataframe tbody tr th:only-of-type {\n",
       "        vertical-align: middle;\n",
       "    }\n",
       "\n",
       "    .dataframe tbody tr th {\n",
       "        vertical-align: top;\n",
       "    }\n",
       "\n",
       "    .dataframe thead th {\n",
       "        text-align: right;\n",
       "    }\n",
       "</style>\n",
       "<table border=\"1\" class=\"dataframe\">\n",
       "  <thead>\n",
       "    <tr style=\"text-align: right;\">\n",
       "      <th></th>\n",
       "      <th>Agressive</th>\n",
       "      <th>Conservative</th>\n",
       "      <th>Moderate</th>\n",
       "    </tr>\n",
       "  </thead>\n",
       "  <tbody>\n",
       "    <tr>\n",
       "      <th>0</th>\n",
       "      <td>0.058123</td>\n",
       "      <td>0.393916</td>\n",
       "      <td>0.547961</td>\n",
       "    </tr>\n",
       "  </tbody>\n",
       "</table>\n",
       "</div>"
      ],
      "text/plain": [
       "   Agressive  Conservative  Moderate\n",
       "0   0.058123      0.393916  0.547961"
      ]
     },
     "execution_count": 17,
     "metadata": {},
     "output_type": "execute_result"
    }
   ],
   "source": [
    "y_pred_df = pd.DataFrame(y_pred, columns=class_names)\n",
    "y_pred_df"
   ]
  },
  {
   "cell_type": "code",
   "execution_count": 29,
   "metadata": {},
   "outputs": [],
   "source": [
    "def get_instrument(category, value):\n",
    "    if category == 'Aggressive':\n",
    "        return 'Stocks' if value > 0.5 else 'Equity Mutual Funds'\n",
    "    elif category == 'Moderate':\n",
    "        if value > 0.75:\n",
    "            return 'Bonds'\n",
    "        elif 0.5 <= value <= 0.74:\n",
    "            return 'Fixed-Income Mutual Funds'\n",
    "        else:\n",
    "            return 'Hybrid Mutual Funds'\n",
    "    elif category == 'Conservative':\n",
    "        if value > 0.75:\n",
    "            return 'Gold'\n",
    "        elif 0.5 <= value <= 0.74:\n",
    "            return 'Certificates of Deposit'\n",
    "        else:\n",
    "            return 'Money Market Mutual Funds'"
   ]
  },
  {
   "cell_type": "code",
   "execution_count": 38,
   "metadata": {},
   "outputs": [],
   "source": [
    "def calculate_result(y_pred_df):\n",
    "    suggestions = []\n",
    "\n",
    "    for _, row in y_pred_df.iterrows():\n",
    "        sorted_row = row.sort_values(ascending=False)\n",
    "        \n",
    "        first_suggestion = get_instrument(sorted_row.index[0], sorted_row.iloc[0])\n",
    "        second_suggestion = get_instrument(sorted_row.index[0], sorted_row.iloc[1])\n",
    "        third_suggestion = get_instrument(sorted_row.index[1], sorted_row.iloc[0])\n",
    "        \n",
    "        suggestions.append([first_suggestion, second_suggestion, third_suggestion])\n",
    "    \n",
    "    calculation = sorted_row.reset_index().rename(columns={0:'percentage'})\n",
    "\n",
    "    labels = [first_suggestion, second_suggestion, third_suggestion]\n",
    "\n",
    "    # # Generate percentage with donut pie chart\n",
    "    sns.set(style=\"whitegrid\")\n",
    "    colors = ['lightgreen','skyblue','plum']\n",
    "    \n",
    "    fig, ax = plt.subplots(figsize=(8, 6))\n",
    "    wedges, texts, autotexts = ax.pie(calculation['percentage'], labels=[''] * len(labels), autopct='%1.1f%%', startangle=150, wedgeprops=dict(width=0.3), pctdistance=1.25, colors=colors)\n",
    "    ax.legend(wedges, labels, title=\"Suggestions\", loc=\"lower left\", bbox_to_anchor=(1, 0, 0.5, 1))\n",
    "    ax.axis('equal')\n",
    "    \n",
    "    return suggestions"
   ]
  },
  {
   "cell_type": "code",
   "execution_count": 39,
   "metadata": {},
   "outputs": [
    {
     "name": "stdout",
     "output_type": "stream",
     "text": [
      "[['Fixed-Income Mutual Funds', 'Hybrid Mutual Funds', 'Certificates of Deposit']]\n"
     ]
    },
    {
     "data": {
      "image/png": "[encoded data removed]",
      "text/plain": [
       "<Figure size 800x600 with 1 Axes>"
      ]
     },
     "metadata": {},
     "output_type": "display_data"
    }
   ],
   "source": [
    "suggestions = calculate_result(y_pred_df)\n",
    "print(suggestions)"
   ]
  }
 ],
 "metadata": {
  "kernelspec": {
   "display_name": "base",
   "language": "python",
   "name": "python3"
  },
  "language_info": {
   "codemirror_mode": {
    "name": "ipython",
    "version": 3
   },
   "file_extension": ".py",
   "mimetype": "text/x-python",
   "name": "python",
   "nbconvert_exporter": "python",
   "pygments_lexer": "ipython3",
   "version": "3.11.5"
  }
 },
 "nbformat": 4,
 "nbformat_minor": 2
}
